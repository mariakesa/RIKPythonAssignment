{
 "cells": [
  {
   "cell_type": "code",
   "execution_count": 2,
   "id": "b432a0f6",
   "metadata": {
    "scrolled": false
   },
   "outputs": [
    {
     "name": "stdout",
     "output_type": "stream",
     "text": [
      "Collecting faker\n",
      "  Downloading Faker-17.4.0-py3-none-any.whl (1.7 MB)\n",
      "\u001b[2K     \u001b[38;2;114;156;31m━━━━━━━━━━━━━━━━━━━━━━━━━━━━━━━━━━━━━━━━\u001b[0m \u001b[32m1.7/1.7 MB\u001b[0m \u001b[31m22.2 MB/s\u001b[0m eta \u001b[36m0:00:00\u001b[0mm eta \u001b[36m0:00:01\u001b[0m[36m0:00:01\u001b[0m\n",
      "\u001b[?25hRequirement already satisfied: python-dateutil>=2.4 in /home/maria/anaconda3/lib/python3.9/site-packages (from faker) (2.8.2)\n",
      "Requirement already satisfied: six>=1.5 in /home/maria/anaconda3/lib/python3.9/site-packages (from python-dateutil>=2.4->faker) (1.16.0)\n",
      "Installing collected packages: faker\n",
      "Successfully installed faker-17.4.0\n"
     ]
    }
   ],
   "source": [
    "!pip install faker"
   ]
  },
  {
   "cell_type": "code",
   "execution_count": 43,
   "id": "56423ec1",
   "metadata": {},
   "outputs": [],
   "source": [
    "from faker import Faker\n",
    "import json"
   ]
  },
  {
   "cell_type": "code",
   "execution_count": 78,
   "id": "6d7982ee",
   "metadata": {
    "scrolled": true
   },
   "outputs": [],
   "source": [
    "import random\n",
    "from datetime import date\n",
    "\n",
    "random.seed(444)\n",
    "Faker.seed(777)\n",
    "\n",
    "def juhuslik_registrikood(n):\n",
    "    range_start = 10**(n-1)\n",
    "    range_end = (10**n)-1\n",
    "    return random.randint(range_start, range_end)\n",
    "\n",
    "def juhusliku_osauhingu_nimi():\n",
    "    fake=Faker(['et_EE'])\n",
    "    osauhingu_nimi=fake.company()\n",
    "    while len(osauhingu_nimi)<3 or len(osauhingu_nimi)>101:\n",
    "        osauhingu_nimi=fake.company()\n",
    "    return str(osauhingu_nimi)\n",
    "\n",
    "def juhuslik_asutamise_kuupaev():\n",
    "    fake=Faker()\n",
    "    juhuslik_asutamise_kuupaev=str(fake.date_between(date.fromisoformat('1986-04-16'),date.today()))\n",
    "    return juhuslik_asutamise_kuupaev\n",
    "\n",
    "def juhuslik_osauhing():\n",
    "    juhuslik_osauhing = {\n",
    "        'osauhingu_nimi': juhusliku_osauhingu_nimi(),\n",
    "        'registri_kood': juhuslik_registrikood(7),\n",
    "        'asutamise_kuupaev': juhuslik_asutamise_kuupaev()\n",
    "    }\n",
    "    #print(juhuslik_osauhing)\n",
    "    return juhuslik_osauhing\n",
    "    \n",
    "juhuslik_osauhing()\n",
    "\n",
    "for j in range(0,3):\n",
    "    juhuslik_osauhing()"
   ]
  },
  {
   "cell_type": "code",
   "execution_count": 79,
   "id": "b398be52",
   "metadata": {
    "scrolled": false
   },
   "outputs": [],
   "source": [
    "esmane_json=[]\n",
    "\n",
    "for a in range(0,3):\n",
    "    esmane_json.append(juhuslik_osauhing())"
   ]
  },
  {
   "cell_type": "code",
   "execution_count": 80,
   "id": "cdae1a96",
   "metadata": {},
   "outputs": [
    {
     "name": "stdout",
     "output_type": "stream",
     "text": [
      "{'osauhingu_nimi': 'Toomsalu, Kõiv and Toots', 'registri_kood': 9127513, 'asutamise_kuupaev': '1993-05-03'}\n"
     ]
    }
   ],
   "source": [
    "print(esmane_json[0])"
   ]
  },
  {
   "cell_type": "code",
   "execution_count": 82,
   "id": "afa59a63",
   "metadata": {},
   "outputs": [
    {
     "ename": "TypeError",
     "evalue": "dumps() takes 1 positional argument but 2 positional arguments (and 1 keyword-only argument) were given",
     "output_type": "error",
     "traceback": [
      "\u001b[0;31m---------------------------------------------------------------------------\u001b[0m",
      "\u001b[0;31mTypeError\u001b[0m                                 Traceback (most recent call last)",
      "\u001b[0;32m/tmp/ipykernel_262540/4185567503.py\u001b[0m in \u001b[0;36m<module>\u001b[0;34m\u001b[0m\n\u001b[1;32m      1\u001b[0m \u001b[0;32mwith\u001b[0m \u001b[0mopen\u001b[0m\u001b[0;34m(\u001b[0m\u001b[0;34m'test_andmestik.json'\u001b[0m\u001b[0;34m,\u001b[0m \u001b[0;34m'w'\u001b[0m\u001b[0;34m,\u001b[0m \u001b[0mencoding\u001b[0m\u001b[0;34m=\u001b[0m\u001b[0;34m'utf-8'\u001b[0m\u001b[0;34m)\u001b[0m \u001b[0;32mas\u001b[0m \u001b[0mf\u001b[0m\u001b[0;34m:\u001b[0m\u001b[0;34m\u001b[0m\u001b[0;34m\u001b[0m\u001b[0m\n\u001b[0;32m----> 2\u001b[0;31m     \u001b[0mjson\u001b[0m\u001b[0;34m.\u001b[0m\u001b[0mdumps\u001b[0m\u001b[0;34m(\u001b[0m\u001b[0mesmane_json\u001b[0m\u001b[0;34m,\u001b[0m\u001b[0mf\u001b[0m\u001b[0;34m,\u001b[0m\u001b[0mensure_ascii\u001b[0m\u001b[0;34m=\u001b[0m\u001b[0;32mFalse\u001b[0m\u001b[0;34m)\u001b[0m\u001b[0;34m\u001b[0m\u001b[0;34m\u001b[0m\u001b[0m\n\u001b[0m\u001b[1;32m      3\u001b[0m \u001b[0;34m\u001b[0m\u001b[0m\n",
      "\u001b[0;31mTypeError\u001b[0m: dumps() takes 1 positional argument but 2 positional arguments (and 1 keyword-only argument) were given"
     ]
    }
   ],
   "source": [
    "with open('test_andmestik.json', 'w', encoding='utf-8') as f:\n",
    "    json.dumps(esmane_json,f,ensure_ascii=False)\n",
    "    \n"
   ]
  }
 ],
 "metadata": {
  "kernelspec": {
   "display_name": "Python 3 (ipykernel)",
   "language": "python",
   "name": "python3"
  },
  "language_info": {
   "codemirror_mode": {
    "name": "ipython",
    "version": 3
   },
   "file_extension": ".py",
   "mimetype": "text/x-python",
   "name": "python",
   "nbconvert_exporter": "python",
   "pygments_lexer": "ipython3",
   "version": "3.9.13"
  }
 },
 "nbformat": 4,
 "nbformat_minor": 5
}

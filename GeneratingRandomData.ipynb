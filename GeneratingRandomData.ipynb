{
 "cells": [
  {
   "cell_type": "code",
   "execution_count": 2,
   "id": "8e4f483f",
   "metadata": {
    "scrolled": false
   },
   "outputs": [
    {
     "name": "stdout",
     "output_type": "stream",
     "text": [
      "Collecting faker\n",
      "  Downloading Faker-17.4.0-py3-none-any.whl (1.7 MB)\n",
      "\u001b[2K     \u001b[38;2;114;156;31m━━━━━━━━━━━━━━━━━━━━━━━━━━━━━━━━━━━━━━━━\u001b[0m \u001b[32m1.7/1.7 MB\u001b[0m \u001b[31m22.2 MB/s\u001b[0m eta \u001b[36m0:00:00\u001b[0mm eta \u001b[36m0:00:01\u001b[0m[36m0:00:01\u001b[0m\n",
      "\u001b[?25hRequirement already satisfied: python-dateutil>=2.4 in /home/maria/anaconda3/lib/python3.9/site-packages (from faker) (2.8.2)\n",
      "Requirement already satisfied: six>=1.5 in /home/maria/anaconda3/lib/python3.9/site-packages (from python-dateutil>=2.4->faker) (1.16.0)\n",
      "Installing collected packages: faker\n",
      "Successfully installed faker-17.4.0\n"
     ]
    }
   ],
   "source": [
    "!pip install faker"
   ]
  },
  {
   "cell_type": "code",
   "execution_count": 7,
   "id": "1e9747d7",
   "metadata": {},
   "outputs": [],
   "source": [
    "from faker import Faker"
   ]
  },
  {
   "cell_type": "code",
   "execution_count": 39,
   "id": "35b282bc",
   "metadata": {
    "scrolled": true
   },
   "outputs": [
    {
     "name": "stdout",
     "output_type": "stream",
     "text": [
      "{'osauhingu_nimi': 'Kruglov Group', 'registri_kood': 6182392, 'asutamise_kuupaev': datetime.date(2011, 5, 16)}\n",
      "{'osauhingu_nimi': 'Kattai, Aasmäe and Laas', 'registri_kood': 5828729, 'asutamise_kuupaev': datetime.date(2022, 11, 17)}\n",
      "{'osauhingu_nimi': 'Fjodorov Group', 'registri_kood': 1222088, 'asutamise_kuupaev': datetime.date(2012, 10, 19)}\n",
      "{'osauhingu_nimi': 'Toom, Väli and Egorov', 'registri_kood': 6186435, 'asutamise_kuupaev': datetime.date(1994, 1, 23)}\n"
     ]
    }
   ],
   "source": [
    "import random\n",
    "from datetime import date\n",
    "\n",
    "random.seed(444)\n",
    "Faker.seed(777)\n",
    "\n",
    "def juhuslik_registrikood(n):\n",
    "    range_start = 10**(n-1)\n",
    "    range_end = (10**n)-1\n",
    "    return random.randint(range_start, range_end)\n",
    "\n",
    "def juhusliku_osauhingu_nimi():\n",
    "    fake=Faker(['et_EE'])\n",
    "    osauhingu_nimi=fake.company()\n",
    "    while len(osauhingu_nimi)<3 or len(osauhingu_nimi)>101:\n",
    "        osauhingu_nimi=fake.company()\n",
    "    return osauhingu_nimi\n",
    "\n",
    "def juhuslik_asutamise_kuupaev():\n",
    "    fake=Faker()\n",
    "    juhuslik_asutamise_kuupaev=fake.date_between(date.fromisoformat('1986-04-16'),date.today())\n",
    "    return juhuslik_asutamise_kuupaev\n",
    "\n",
    "def juhuslik_osauhing():\n",
    "    juhuslik_osauhing = {\n",
    "        'osauhingu_nimi': juhusliku_osauhingu_nimi(),\n",
    "        'registri_kood': juhuslik_registrikood(7),\n",
    "        'asutamise_kuupaev': juhuslik_asutamise_kuupaev()\n",
    "    }\n",
    "    print(juhuslik_osauhing)\n",
    "    \n",
    "juhuslik_osauhing()\n",
    "\n",
    "for j in range(0,3):\n",
    "    juhuslik_osauhing()"
   ]
  },
  {
   "cell_type": "code",
   "execution_count": null,
   "id": "8258dbe2",
   "metadata": {
    "scrolled": true
   },
   "outputs": [
    {
     "name": "stdout",
     "output_type": "stream",
     "text": [
      "{'osauhingu_nimi': 'Toomsalu, Kõiv and Toots', 'registri_kood': 9127513, 'asutamise_kuupaev': datetime.date(1993, 5, 3)}\n",
      "{'osauhingu_nimi': 'Komarov, Kaljuvee and Sirel', 'registri_kood': 5633978, 'asutamise_kuupaev': datetime.date(2009, 4, 22)}\n",
      "{'osauhingu_nimi': 'Borissov-Schmidt', 'registri_kood': 6063902, 'asutamise_kuupaev': datetime.date(1993, 7, 31)}\n",
      "{'osauhingu_nimi': 'Kuznetsov, Lillemets and Koitla', 'registri_kood': 9623269, 'asutamise_kuupaev': datetime.date(2007, 7, 16)}\n",
      "{'osauhingu_nimi': 'Kaljuste, Kutsar and Põder', 'registri_kood': 8414787, 'asutamise_kuupaev': datetime.date(2014, 7, 13)}\n",
      "{'osauhingu_nimi': 'Tamme, Poom and Sokolov', 'registri_kood': 6224231, 'asutamise_kuupaev': datetime.date(1996, 5, 6)}\n",
      "{'osauhingu_nimi': 'Paap, Toomsalu and Teder', 'registri_kood': 9308165, 'asutamise_kuupaev': datetime.date(2004, 12, 29)}\n",
      "{'osauhingu_nimi': 'Jermakov, Luht and Põllu', 'registri_kood': 2245225, 'asutamise_kuupaev': datetime.date(2016, 12, 6)}\n",
      "{'osauhingu_nimi': 'Ojaste Group', 'registri_kood': 7920294, 'asutamise_kuupaev': datetime.date(2003, 9, 28)}\n",
      "{'osauhingu_nimi': 'Danilov PLC', 'registri_kood': 4667782, 'asutamise_kuupaev': datetime.date(2012, 5, 15)}\n",
      "{'osauhingu_nimi': 'Kiis and Sons', 'registri_kood': 9278331, 'asutamise_kuupaev': datetime.date(2018, 12, 18)}\n",
      "{'osauhingu_nimi': 'Aleksandrov, Luts and Juhkam', 'registri_kood': 1127873, 'asutamise_kuupaev': datetime.date(2008, 1, 25)}\n",
      "{'osauhingu_nimi': 'Vorobjov-Luht', 'registri_kood': 3093759, 'asutamise_kuupaev': datetime.date(1998, 1, 13)}\n",
      "{'osauhingu_nimi': 'Jürisson PLC', 'registri_kood': 1477917, 'asutamise_kuupaev': datetime.date(1988, 8, 3)}\n",
      "{'osauhingu_nimi': 'Erik PLC', 'registri_kood': 3005001, 'asutamise_kuupaev': datetime.date(2004, 4, 20)}\n",
      "{'osauhingu_nimi': 'Schmidt, Kirs and Ojaste', 'registri_kood': 1312859, 'asutamise_kuupaev': datetime.date(1997, 10, 3)}\n",
      "{'osauhingu_nimi': 'Egorov, Tamme and Solovjov', 'registri_kood': 7217590, 'asutamise_kuupaev': datetime.date(2020, 2, 22)}\n",
      "{'osauhingu_nimi': 'Jaakson-Lepp', 'registri_kood': 6296815, 'asutamise_kuupaev': datetime.date(2020, 2, 28)}\n",
      "{'osauhingu_nimi': 'Saks-Härm', 'registri_kood': 9644711, 'asutamise_kuupaev': datetime.date(2016, 7, 23)}\n",
      "{'osauhingu_nimi': 'Mandel-Pajula', 'registri_kood': 3593022, 'asutamise_kuupaev': datetime.date(2010, 7, 23)}\n",
      "{'osauhingu_nimi': 'Miller, Annus and Villemson', 'registri_kood': 6836485, 'asutamise_kuupaev': datetime.date(1989, 11, 13)}\n",
      "{'osauhingu_nimi': 'Denissov, Randoja and Aas', 'registri_kood': 6607128, 'asutamise_kuupaev': datetime.date(2011, 9, 24)}\n",
      "{'osauhingu_nimi': 'Raag-Kazakov', 'registri_kood': 1958680, 'asutamise_kuupaev': datetime.date(2020, 12, 29)}\n",
      "{'osauhingu_nimi': 'Salumäe, Laks and Pajula', 'registri_kood': 4476752, 'asutamise_kuupaev': datetime.date(2005, 11, 6)}\n",
      "{'osauhingu_nimi': 'Sarapuu, Sibul and Pulk', 'registri_kood': 2335773, 'asutamise_kuupaev': datetime.date(2013, 3, 20)}\n",
      "{'osauhingu_nimi': 'Kass LLC', 'registri_kood': 6772089, 'asutamise_kuupaev': datetime.date(2019, 7, 24)}\n",
      "{'osauhingu_nimi': 'Saul-Oja', 'registri_kood': 7666141, 'asutamise_kuupaev': datetime.date(2018, 10, 27)}\n",
      "{'osauhingu_nimi': 'Nazarov LLC', 'registri_kood': 6634300, 'asutamise_kuupaev': datetime.date(1991, 10, 14)}\n",
      "{'osauhingu_nimi': 'Schmidt-Bõstrov', 'registri_kood': 7306970, 'asutamise_kuupaev': datetime.date(2015, 4, 22)}\n",
      "{'osauhingu_nimi': 'Raag PLC', 'registri_kood': 6121584, 'asutamise_kuupaev': datetime.date(2016, 7, 13)}\n",
      "{'osauhingu_nimi': 'Tarassov, Zaitsev and Kiik', 'registri_kood': 8570731, 'asutamise_kuupaev': datetime.date(1991, 2, 28)}\n",
      "{'osauhingu_nimi': 'Raidma-Konstantinov', 'registri_kood': 7982555, 'asutamise_kuupaev': datetime.date(1999, 12, 24)}\n",
      "{'osauhingu_nimi': 'Sepp, Müür and Pärn', 'registri_kood': 4256899, 'asutamise_kuupaev': datetime.date(1993, 6, 24)}\n",
      "{'osauhingu_nimi': 'Viira, Kiik and Kont', 'registri_kood': 7807968, 'asutamise_kuupaev': datetime.date(2015, 9, 26)}\n",
      "{'osauhingu_nimi': 'Karpov, Kuusik and Rand', 'registri_kood': 4978160, 'asutamise_kuupaev': datetime.date(2011, 11, 12)}\n",
      "{'osauhingu_nimi': 'Ojaste and Sons', 'registri_kood': 3773363, 'asutamise_kuupaev': datetime.date(2009, 12, 21)}\n",
      "{'osauhingu_nimi': 'Trofimov and Sons', 'registri_kood': 7652268, 'asutamise_kuupaev': datetime.date(2015, 6, 3)}\n",
      "{'osauhingu_nimi': 'Orlov-Parts', 'registri_kood': 6230937, 'asutamise_kuupaev': datetime.date(2004, 10, 23)}\n",
      "{'osauhingu_nimi': 'Pent, Michelson and Roosileht', 'registri_kood': 6886028, 'asutamise_kuupaev': datetime.date(2014, 7, 21)}\n",
      "{'osauhingu_nimi': 'Lumi-Aleksandrov', 'registri_kood': 1997294, 'asutamise_kuupaev': datetime.date(2008, 10, 16)}\n",
      "{'osauhingu_nimi': 'Oja LLC', 'registri_kood': 5419378, 'asutamise_kuupaev': datetime.date(2021, 6, 28)}\n",
      "{'osauhingu_nimi': 'Suits PLC', 'registri_kood': 2592468, 'asutamise_kuupaev': datetime.date(1991, 1, 7)}\n",
      "{'osauhingu_nimi': 'Suvorov PLC', 'registri_kood': 9838064, 'asutamise_kuupaev': datetime.date(1998, 7, 1)}\n",
      "{'osauhingu_nimi': 'Konovalov, Novikov and Suvorov', 'registri_kood': 8485504, 'asutamise_kuupaev': datetime.date(2019, 8, 27)}\n",
      "{'osauhingu_nimi': 'Kuuse-Mikk', 'registri_kood': 5217880, 'asutamise_kuupaev': datetime.date(2020, 2, 25)}\n",
      "{'osauhingu_nimi': 'Gromov Ltd', 'registri_kood': 3467859, 'asutamise_kuupaev': datetime.date(2008, 7, 22)}\n",
      "{'osauhingu_nimi': 'Lehtla Group', 'registri_kood': 4816520, 'asutamise_kuupaev': datetime.date(2003, 3, 29)}\n",
      "{'osauhingu_nimi': 'Konstantinov, Sillaste and Kuznetsov', 'registri_kood': 5008690, 'asutamise_kuupaev': datetime.date(2000, 12, 29)}\n",
      "{'osauhingu_nimi': 'Käär LLC', 'registri_kood': 5000570, 'asutamise_kuupaev': datetime.date(2012, 4, 2)}\n",
      "{'osauhingu_nimi': 'Lumi, Treier and Teesalu', 'registri_kood': 2066125, 'asutamise_kuupaev': datetime.date(2006, 2, 8)}\n",
      "{'osauhingu_nimi': 'Bogdanov-Lokk', 'registri_kood': 4775102, 'asutamise_kuupaev': datetime.date(1987, 10, 9)}\n",
      "{'osauhingu_nimi': 'Nuut Ltd', 'registri_kood': 7698261, 'asutamise_kuupaev': datetime.date(2022, 6, 1)}\n",
      "{'osauhingu_nimi': 'Medvedev Group', 'registri_kood': 2303837, 'asutamise_kuupaev': datetime.date(2020, 6, 5)}\n",
      "{'osauhingu_nimi': 'Trei-Tõnisson', 'registri_kood': 5973715, 'asutamise_kuupaev': datetime.date(2018, 11, 20)}\n",
      "{'osauhingu_nimi': 'Jürgens-Ernits', 'registri_kood': 5958310, 'asutamise_kuupaev': datetime.date(2004, 8, 13)}\n",
      "{'osauhingu_nimi': 'Kotkas Group', 'registri_kood': 9505499, 'asutamise_kuupaev': datetime.date(2020, 1, 4)}\n",
      "{'osauhingu_nimi': 'Laur-Unt', 'registri_kood': 1276376, 'asutamise_kuupaev': datetime.date(2014, 9, 11)}\n",
      "{'osauhingu_nimi': 'Nõmmik-Uustalu', 'registri_kood': 2515219, 'asutamise_kuupaev': datetime.date(2021, 4, 2)}\n",
      "{'osauhingu_nimi': 'Belov, Lõhmus and Varik', 'registri_kood': 4758437, 'asutamise_kuupaev': datetime.date(2004, 11, 18)}\n",
      "{'osauhingu_nimi': 'Kuusik-Lukk', 'registri_kood': 2372618, 'asutamise_kuupaev': datetime.date(2013, 2, 4)}\n",
      "{'osauhingu_nimi': 'Kaljula-Vaht', 'registri_kood': 7631683, 'asutamise_kuupaev': datetime.date(2008, 7, 22)}\n",
      "{'osauhingu_nimi': 'Paju Inc', 'registri_kood': 2262951, 'asutamise_kuupaev': datetime.date(2008, 5, 29)}\n",
      "{'osauhingu_nimi': 'Urb, Kaljula and Hein', 'registri_kood': 7027484, 'asutamise_kuupaev': datetime.date(1995, 3, 30)}\n",
      "{'osauhingu_nimi': 'Saks Group', 'registri_kood': 1363317, 'asutamise_kuupaev': datetime.date(2011, 6, 25)}\n",
      "{'osauhingu_nimi': 'Jaanus, Mikk and Jõgi', 'registri_kood': 7032900, 'asutamise_kuupaev': datetime.date(2019, 11, 4)}\n",
      "{'osauhingu_nimi': 'Annus PLC', 'registri_kood': 7763949, 'asutamise_kuupaev': datetime.date(2019, 3, 4)}\n",
      "{'osauhingu_nimi': 'Kozlov Ltd', 'registri_kood': 2768427, 'asutamise_kuupaev': datetime.date(2017, 1, 20)}\n",
      "{'osauhingu_nimi': 'Tsvetkov-Kask', 'registri_kood': 5469738, 'asutamise_kuupaev': datetime.date(2011, 9, 25)}\n",
      "{'osauhingu_nimi': 'Loginov Group', 'registri_kood': 8195178, 'asutamise_kuupaev': datetime.date(1986, 12, 23)}\n",
      "{'osauhingu_nimi': 'Filippov, Lokk and Kalamees', 'registri_kood': 3923586, 'asutamise_kuupaev': datetime.date(2019, 12, 21)}\n",
      "{'osauhingu_nimi': 'Aavik and Sons', 'registri_kood': 2937955, 'asutamise_kuupaev': datetime.date(2002, 7, 7)}\n",
      "{'osauhingu_nimi': 'Lember PLC', 'registri_kood': 2011322, 'asutamise_kuupaev': datetime.date(2007, 6, 13)}\n",
      "{'osauhingu_nimi': 'Jõesaar-Sarapuu', 'registri_kood': 1000519, 'asutamise_kuupaev': datetime.date(2007, 8, 8)}\n",
      "{'osauhingu_nimi': 'Borissov, Soon and Naumov', 'registri_kood': 5952668, 'asutamise_kuupaev': datetime.date(1991, 6, 8)}\n",
      "{'osauhingu_nimi': 'Erm-Salu', 'registri_kood': 3876455, 'asutamise_kuupaev': datetime.date(1993, 6, 6)}\n"
     ]
    },
    {
     "name": "stdout",
     "output_type": "stream",
     "text": [
      "{'osauhingu_nimi': 'Hunt, Nõmme and Kool', 'registri_kood': 3688318, 'asutamise_kuupaev': datetime.date(1992, 5, 13)}\n",
      "{'osauhingu_nimi': 'Kont-Ots', 'registri_kood': 7131923, 'asutamise_kuupaev': datetime.date(1986, 5, 29)}\n",
      "{'osauhingu_nimi': 'Meister Group', 'registri_kood': 3138423, 'asutamise_kuupaev': datetime.date(2014, 11, 18)}\n",
      "{'osauhingu_nimi': 'Kohv-Oja', 'registri_kood': 8122397, 'asutamise_kuupaev': datetime.date(1988, 7, 14)}\n",
      "{'osauhingu_nimi': 'Markus-Erik', 'registri_kood': 4678030, 'asutamise_kuupaev': datetime.date(1998, 4, 3)}\n",
      "{'osauhingu_nimi': 'Anderson Ltd', 'registri_kood': 6327183, 'asutamise_kuupaev': datetime.date(1998, 9, 24)}\n",
      "{'osauhingu_nimi': 'Liivak-Kiis', 'registri_kood': 4930809, 'asutamise_kuupaev': datetime.date(1998, 5, 21)}\n",
      "{'osauhingu_nimi': 'Peterson-Heinsoo', 'registri_kood': 7442206, 'asutamise_kuupaev': datetime.date(2013, 6, 14)}\n",
      "{'osauhingu_nimi': 'Kont, Männiste and Lokk', 'registri_kood': 7953254, 'asutamise_kuupaev': datetime.date(1997, 12, 26)}\n",
      "{'osauhingu_nimi': 'Maksimov and Sons', 'registri_kood': 7428858, 'asutamise_kuupaev': datetime.date(1986, 8, 6)}\n",
      "{'osauhingu_nimi': 'Võsu, Heinsalu and Lehtla', 'registri_kood': 5110425, 'asutamise_kuupaev': datetime.date(2019, 11, 22)}\n",
      "{'osauhingu_nimi': 'Kivimäe, Kalamees and Kangur', 'registri_kood': 4853779, 'asutamise_kuupaev': datetime.date(1998, 7, 29)}\n",
      "{'osauhingu_nimi': 'Kostin, Solovjov and Teesalu', 'registri_kood': 4871712, 'asutamise_kuupaev': datetime.date(2017, 7, 31)}\n",
      "{'osauhingu_nimi': 'Raidma, Korol and Pärna', 'registri_kood': 6260417, 'asutamise_kuupaev': datetime.date(1987, 6, 13)}\n",
      "{'osauhingu_nimi': 'Madisson, Miller and Jaanson', 'registri_kood': 8597602, 'asutamise_kuupaev': datetime.date(2004, 9, 6)}\n",
      "{'osauhingu_nimi': 'Post, Koppel and Müür', 'registri_kood': 6913733, 'asutamise_kuupaev': datetime.date(2022, 9, 16)}\n",
      "{'osauhingu_nimi': 'Post LLC', 'registri_kood': 4409168, 'asutamise_kuupaev': datetime.date(1992, 8, 27)}\n",
      "{'osauhingu_nimi': 'Kutsar-Žuravljov', 'registri_kood': 9494498, 'asutamise_kuupaev': datetime.date(1994, 11, 21)}\n",
      "{'osauhingu_nimi': 'Sergejev Ltd', 'registri_kood': 7513147, 'asutamise_kuupaev': datetime.date(1995, 2, 20)}\n",
      "{'osauhingu_nimi': 'Volkov LLC', 'registri_kood': 5975377, 'asutamise_kuupaev': datetime.date(2006, 12, 16)}\n"
     ]
    }
   ],
   "source": [
    "esmane_json=[]\n",
    "\n",
    "for a in range(0,100):\n",
    "    esmane_json.append(juhuslik_osauhing())"
   ]
  },
  {
   "cell_type": "code",
   "execution_count": null,
   "id": "519d8ce5",
   "metadata": {},
   "outputs": [],
   "source": []
  }
 ],
 "metadata": {
  "kernelspec": {
   "display_name": "Python 3 (ipykernel)",
   "language": "python",
   "name": "python3"
  },
  "language_info": {
   "codemirror_mode": {
    "name": "ipython",
    "version": 3
   },
   "file_extension": ".py",
   "mimetype": "text/x-python",
   "name": "python",
   "nbconvert_exporter": "python",
   "pygments_lexer": "ipython3",
   "version": "3.9.13"
  }
 },
 "nbformat": 4,
 "nbformat_minor": 5
}

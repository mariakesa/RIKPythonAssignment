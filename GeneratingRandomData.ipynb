{
 "cells": [
  {
   "cell_type": "code",
   "execution_count": 2,
   "id": "4eb7b1ce",
   "metadata": {
    "scrolled": false
   },
   "outputs": [
    {
     "name": "stdout",
     "output_type": "stream",
     "text": [
      "Collecting faker\n",
      "  Downloading Faker-17.4.0-py3-none-any.whl (1.7 MB)\n",
      "\u001b[2K     \u001b[38;2;114;156;31m━━━━━━━━━━━━━━━━━━━━━━━━━━━━━━━━━━━━━━━━\u001b[0m \u001b[32m1.7/1.7 MB\u001b[0m \u001b[31m22.2 MB/s\u001b[0m eta \u001b[36m0:00:00\u001b[0mm eta \u001b[36m0:00:01\u001b[0m[36m0:00:01\u001b[0m\n",
      "\u001b[?25hRequirement already satisfied: python-dateutil>=2.4 in /home/maria/anaconda3/lib/python3.9/site-packages (from faker) (2.8.2)\n",
      "Requirement already satisfied: six>=1.5 in /home/maria/anaconda3/lib/python3.9/site-packages (from python-dateutil>=2.4->faker) (1.16.0)\n",
      "Installing collected packages: faker\n",
      "Successfully installed faker-17.4.0\n"
     ]
    }
   ],
   "source": [
    "!pip install faker"
   ]
  },
  {
   "cell_type": "code",
   "execution_count": 7,
   "id": "96e4e4a6",
   "metadata": {},
   "outputs": [],
   "source": [
    "from faker import Faker"
   ]
  },
  {
   "cell_type": "code",
   "execution_count": 36,
   "id": "02f5277e",
   "metadata": {},
   "outputs": [
    {
     "name": "stdout",
     "output_type": "stream",
     "text": [
      "{'osauhingu_nimi': 'Kruglov Group', 'registri_kood': <function juhuslik_registrikood at 0x7f8a6467dee0>, 'asutamise_kuupaev': datetime.date(2011, 5, 16)}\n",
      "{'osauhingu_nimi': 'Kattai, Aasmäe and Laas', 'registri_kood': <function juhuslik_registrikood at 0x7f8a6467dee0>, 'asutamise_kuupaev': datetime.date(2022, 11, 17)}\n",
      "{'osauhingu_nimi': 'Fjodorov Group', 'registri_kood': <function juhuslik_registrikood at 0x7f8a6467dee0>, 'asutamise_kuupaev': datetime.date(2012, 10, 19)}\n",
      "{'osauhingu_nimi': 'Toom, Väli and Egorov', 'registri_kood': <function juhuslik_registrikood at 0x7f8a6467dee0>, 'asutamise_kuupaev': datetime.date(1994, 1, 23)}\n"
     ]
    }
   ],
   "source": [
    "import random\n",
    "from datetime import date\n",
    "\n",
    "random.seed(444)\n",
    "Faker.seed(777)\n",
    "\n",
    "def juhuslik_registrikood(n):\n",
    "    range_start = 10**(n-1)\n",
    "    range_end = (10**n)-1\n",
    "    return random.randint(range_start, range_end)\n",
    "\n",
    "def juhusliku_osauhingu_nimi():\n",
    "    fake=Faker(['et_EE'])\n",
    "    osauhingu_nimi=fake.company()\n",
    "    while len(osauhingu_nimi)<3 or len(osauhingu_nimi)>101:\n",
    "        osauhingu_nimi=fake.company()\n",
    "    return osauhingu_nimi\n",
    "\n",
    "def juhuslik_asutamise_kuupaev():\n",
    "    fake=Faker()\n",
    "    juhuslik_asutamise_kuupaev=fake.date_between(date.fromisoformat('1986-04-16'),date.today())\n",
    "    return juhuslik_asutamise_kuupaev\n",
    "\n",
    "def juhuslik_osauhing():\n",
    "    juhuslik_osauhing = {\n",
    "        'osauhingu_nimi': juhusliku_osauhingu_nimi(),\n",
    "        'registri_kood': juhuslik_registrikood,\n",
    "        'asutamise_kuupaev': juhuslik_asutamise_kuupaev()\n",
    "    }\n",
    "    print(juhuslik_osauhing)\n",
    "    \n",
    "juhuslik_osauhing()\n",
    "\n",
    "for j in range(0,3):\n",
    "    juhuslik_osauhing()"
   ]
  }
 ],
 "metadata": {
  "kernelspec": {
   "display_name": "Python 3 (ipykernel)",
   "language": "python",
   "name": "python3"
  },
  "language_info": {
   "codemirror_mode": {
    "name": "ipython",
    "version": 3
   },
   "file_extension": ".py",
   "mimetype": "text/x-python",
   "name": "python",
   "nbconvert_exporter": "python",
   "pygments_lexer": "ipython3",
   "version": "3.9.13"
  }
 },
 "nbformat": 4,
 "nbformat_minor": 5
}
